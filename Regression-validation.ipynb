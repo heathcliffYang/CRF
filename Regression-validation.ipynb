{
 "cells": [
  {
   "cell_type": "code",
   "execution_count": 1,
   "metadata": {},
   "outputs": [
    {
     "data": {
      "text/plain": [
       "<bound method Random.seed of <random.Random object at 0x10285fe18>>"
      ]
     },
     "execution_count": 1,
     "metadata": {},
     "output_type": "execute_result"
    }
   ],
   "source": [
    "# regression - validation in different floor number and building number\n",
    "# import\n",
    "import csv\n",
    "import math\n",
    "import random\n",
    "import sys\n",
    "import numpy as np\n",
    "import matplotlib.pyplot as plt\n",
    "from pystruct.models import ChainCRF\n",
    "from pystruct.learners import FrankWolfeSSVM\n",
    "from sklearn.gaussian_process import GaussianProcessRegressor\n",
    "from sklearn.gaussian_process.kernels import (RBF, Matern, RationalQuadratic,\n",
    "                                              ExpSineSquared, DotProduct,\n",
    "                                              ConstantKernel, WhiteKernel)\n",
    "%matplotlib inline\n",
    "\n",
    "random.seed"
   ]
  },
  {
   "cell_type": "code",
   "execution_count": 2,
   "metadata": {},
   "outputs": [
    {
     "name": "stdout",
     "output_type": "stream",
     "text": [
      "1059\n",
      "78\n",
      "0 0 13.5111661127266\n",
      "1368\n",
      "30\n",
      "0 1 18.15096422776383\n",
      "1942\n",
      "24\n",
      "0 2 21.744296036987425\n",
      "1356\n",
      "208\n",
      "1 0 12.312419881488141\n",
      "1484\n",
      "143\n",
      "1 1 17.04967546548181\n",
      "2162\n",
      "111\n",
      "1 2 16.282411010619708\n",
      "1443\n",
      "165\n",
      "2 0 9.702210961209458\n",
      "1396\n",
      "87\n",
      "2 1 15.298599847234282\n",
      "1577\n",
      "54\n",
      "2 2 21.477112984417452\n",
      "1391\n",
      "85\n",
      "3 0 14.233845295945194\n",
      "948\n",
      "47\n",
      "3 1 17.252775624415825\n",
      "2709\n",
      "40\n",
      "3 2 16.76435484059036\n",
      "0\n",
      "0\n",
      "1102\n",
      "39\n",
      "4 2 23.60256957968367\n"
     ]
    }
   ],
   "source": [
    "for floor in range(0,5):\n",
    "    for building in range(0,3):\n",
    "        data_num = 0\n",
    "        with open(\"1478167720_9233432_trainingData.csv\", newline='') as csvfile:\n",
    "            spamreader = csv.reader(csvfile, delimiter=',')\n",
    "            for row in spamreader:\n",
    "                if (row[523] == 'BUILDINGID'):\n",
    "                    continue\n",
    "                elif (int(row[523]) is not building or int(row[522]) is not floor):\n",
    "                    continue\n",
    "                data_num += 1\n",
    "\n",
    "        print(data_num)\n",
    "        if (data_num == 0):\n",
    "            continue\n",
    "        i = -1\n",
    "\n",
    "        wifi_loc_time = np.zeros(shape = (data_num, 524))\n",
    "        wifi = np.zeros(shape = (data_num, 520))\n",
    "        longitude = np.zeros(shape=(data_num,2))\n",
    "\n",
    "        with open(\"1478167720_9233432_trainingData.csv\", newline='') as csvfile:\n",
    "            spamreader = csv.reader(csvfile, delimiter=',')\n",
    "            for row in spamreader:\n",
    "                if (row[523] == 'BUILDINGID'):\n",
    "                    continue\n",
    "                elif (int(row[523]) is not building or int(row[522]) is not floor):\n",
    "                    continue\n",
    "                i = i+1\n",
    "                if (i > data_num):\n",
    "                    break\n",
    "                # wifi\n",
    "                wifi_loc_time[i-1][:520] = np.array(row[:520])\n",
    "                wifi[i-1][:] = np.array(row[:520])\n",
    "                # location x, y\n",
    "                wifi_loc_time[i-1][520:522] = np.array(row[520:522])\n",
    "                longitude[i-1][:] = np.array(row[520:522])\n",
    "                # userID\n",
    "                wifi_loc_time[i-1][522] = np.array(row[526])\n",
    "                # time stamp\n",
    "                wifi_loc_time[i-1][-1] = np.array(row[-1])\n",
    "        # Testing\n",
    "        # extract data\n",
    "        data_num_v = 0 # 86 in validation dataset\n",
    "        with open(\"1478167721_0345678_validationData.csv\", newline='') as v_csvfile:\n",
    "            spamreader_v = csv.reader(v_csvfile, delimiter=',')\n",
    "            for row in spamreader_v:\n",
    "                if (row[523] == 'BUILDINGID'):\n",
    "                    continue\n",
    "                elif (int(row[523]) is not building or int(row[522]) is not floor):\n",
    "                    continue\n",
    "                data_num_v += 1\n",
    "\n",
    "        print(data_num_v)\n",
    "        if (data_num_v == 0):\n",
    "            continue\n",
    "        i = -1\n",
    "\n",
    "        wifi_loc_time_v = np.zeros(shape = (data_num_v, 524))\n",
    "        wifi_v = np.zeros(shape = (data_num_v, 520))\n",
    "        longitude_v = np.zeros(shape=(data_num_v,2))\n",
    "\n",
    "        # 520 WAP\n",
    "        # FLOOR 2\n",
    "        # Building 1\n",
    "        # timestamp\n",
    "\n",
    "        # total data num = 19938\n",
    "\n",
    "        with open(\"1478167721_0345678_validationData.csv\", newline='') as v_csvfile:\n",
    "            spamreader_v = csv.reader(v_csvfile, delimiter=',')\n",
    "            for row in spamreader_v:\n",
    "                if (row[523] == 'BUILDINGID'):\n",
    "                    continue\n",
    "                elif (int(row[523]) is not building or int(row[522]) is not floor):\n",
    "                    continue\n",
    "                i = i+1\n",
    "                #if (i > data_num):\n",
    "                #    break\n",
    "                # wifi\n",
    "                wifi_loc_time_v[i-1][:520] = np.array(row[:520])\n",
    "                wifi_v[i-1][:] = np.array(row[:520])\n",
    "                # location x, y\n",
    "                wifi_loc_time_v[i-1][520:522] = np.array(row[520:522])\n",
    "                longitude_v[i-1][:] = np.array(row[520:522])\n",
    "                # userID\n",
    "                wifi_loc_time_v[i-1][522] = np.array(row[526])\n",
    "                # time stamp\n",
    "                wifi_loc_time_v[i-1][-1] = np.array(row[-1])\n",
    "\n",
    "        kernel = 1.0 * RationalQuadratic(length_scale=23.0, alpha=0.999)\n",
    "        gp = GaussianProcessRegressor(kernel=kernel, alpha=0.5).fit(wifi, longitude)\n",
    "        loc_pred, loc_cov = gp.predict(wifi_v, return_cov=True)\n",
    "        RMSE = 0\n",
    "        for i in range(len(loc_pred)):\n",
    "                        #print(loc_pred[i,0], longitude_v[i,0], loc_pred[i,0]-longitude_v[i,0])\n",
    "                        #print(loc_pred[i,1], longitude_v[i,1], loc_pred[i,1]-longitude_v[i,1])\n",
    "                        #print(math.sqrt(pow(loc_pred[i,0]-longitude_v[i,0],2)+pow(loc_pred[i,1]-longitude_v[i,1],2)))\n",
    "            RMSE+=math.sqrt(pow(loc_pred[i,0]-longitude_v[i,0],2)+pow(loc_pred[i,1]-longitude_v[i,1],2))\n",
    "        print(floor, building, RMSE/data_num_v)"
   ]
  },
  {
   "cell_type": "code",
   "execution_count": null,
   "metadata": {},
   "outputs": [],
   "source": []
  },
  {
   "cell_type": "code",
   "execution_count": null,
   "metadata": {},
   "outputs": [],
   "source": []
  },
  {
   "cell_type": "code",
   "execution_count": null,
   "metadata": {},
   "outputs": [],
   "source": []
  },
  {
   "cell_type": "code",
   "execution_count": null,
   "metadata": {
    "scrolled": false
   },
   "outputs": [],
   "source": []
  },
  {
   "cell_type": "code",
   "execution_count": 3,
   "metadata": {},
   "outputs": [],
   "source": [
    "# from sklearn.decomposition import PCA, KernelPCA"
   ]
  },
  {
   "cell_type": "code",
   "execution_count": 4,
   "metadata": {},
   "outputs": [],
   "source": [
    "# n_components = 2\n",
    "# # pca = PCA(n_components=n_components)\n",
    "# # wifi_pca = pca.fit_transform(wifi)\n",
    "# kpca = KernelPCA(kernel=\"rbf\", n_components=2, gamma=100)\n",
    "# wifi_pca = kpca.fit_transform(wifi)"
   ]
  },
  {
   "cell_type": "code",
   "execution_count": 5,
   "metadata": {},
   "outputs": [],
   "source": [
    "# for i in range(len(wifi)):\n",
    "#     axes = plt.gca()\n",
    "#     axes.set_xlim([min(wifi_pca[:,0]),max(wifi_pca[:,0])])\n",
    "#     axes.set_ylim([min(wifi_pca[:,1]),max(wifi_pca[:,1])])\n",
    "#     plt.scatter(wifi_pca[:,0], wifi_pca[:,1], c='r')\n",
    "#     plt.annotate(i, (wifi_pca[i,0], wifi_pca[i,1]))\n",
    "#     plt.show()"
   ]
  },
  {
   "cell_type": "code",
   "execution_count": 6,
   "metadata": {},
   "outputs": [
    {
     "data": {
      "text/plain": [
       "[<matplotlib.lines.Line2D at 0x11f9fa0b8>]"
      ]
     },
     "execution_count": 6,
     "metadata": {},
     "output_type": "execute_result"
    },
    {
     "data": {
      "image/png": "[encoded data removed]",
      "text/plain": [
       "<Figure size 432x288 with 1 Axes>"
      ]
     },
     "metadata": {},
     "output_type": "display_data"
    }
   ],
   "source": [
    "plt.plot(longitude[:,0], longitude[:,1], 'b.')"
   ]
  },
  {
   "cell_type": "code",
   "execution_count": 7,
   "metadata": {},
   "outputs": [],
   "source": [
    "# print(wifi_pca)"
   ]
  },
  {
   "cell_type": "code",
   "execution_count": 8,
   "metadata": {},
   "outputs": [],
   "source": [
    "# print(longitude)"
   ]
  },
  {
   "cell_type": "code",
   "execution_count": 9,
   "metadata": {},
   "outputs": [],
   "source": [
    "# wifi_pca_v = kpca.fit_transform(wifi_v)\n",
    "# for kernel in kernels:\n",
    "#     gp = GaussianProcessRegressor(kernel=kernel,\n",
    "#                                       alpha=0.5).fit(wifi_pca, longitude)\n",
    "#     loc_pred, loc_cov = gp.predict(wifi_pca_v, return_cov=True)\n",
    "#     RMSE = 0\n",
    "#     for i in range(len(loc_pred)):\n",
    "#             #print(loc_pred[i,0], longitude_v[i,0], loc_pred[i,0]-longitude_v[i,0])\n",
    "#             #print(loc_pred[i,1], longitude_v[i,1], loc_pred[i,1]-longitude_v[i,1])\n",
    "#             #print(math.sqrt(pow(loc_pred[i,0]-longitude_v[i,0],2)+pow(loc_pred[i,1]-longitude_v[i,1],2)))\n",
    "#         RMSE+=math.sqrt(pow(loc_pred[i,0]-longitude_v[i,0],2)+pow(loc_pred[i,1]-longitude_v[i,1],2))\n",
    "#     print(RMSE/data_num_v)"
   ]
  },
  {
   "cell_type": "code",
   "execution_count": 10,
   "metadata": {},
   "outputs": [
    {
     "name": "stdout",
     "output_type": "stream",
     "text": [
      "100000.0\n"
     ]
    }
   ],
   "source": [
    "print(1e+05)"
   ]
  },
  {
   "cell_type": "code",
   "execution_count": null,
   "metadata": {},
   "outputs": [],
   "source": []
  }
 ],
 "metadata": {
  "kernelspec": {
   "display_name": "Python 3",
   "language": "python",
   "name": "python3"
  },
  "language_info": {
   "codemirror_mode": {
    "name": "ipython",
    "version": 3
   },
   "file_extension": ".py",
   "mimetype": "text/x-python",
   "name": "python",
   "nbconvert_exporter": "python",
   "pygments_lexer": "ipython3",
   "version": "3.6.4"
  }
 },
 "nbformat": 4,
 "nbformat_minor": 2
}
