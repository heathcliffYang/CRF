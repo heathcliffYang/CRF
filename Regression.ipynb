{
 "cells": [
  {
   "cell_type": "code",
   "execution_count": 1,
   "metadata": {},
   "outputs": [
    {
     "data": {
      "text/plain": [
       "<bound method Random.seed of <random.Random object at 0x10283bc18>>"
      ]
     },
     "execution_count": 1,
     "metadata": {},
     "output_type": "execute_result"
    }
   ],
   "source": [
    "# Just regression\n",
    "# import\n",
    "import csv\n",
    "import math\n",
    "import random\n",
    "import sys\n",
    "import numpy as np\n",
    "import matplotlib.pyplot as plt\n",
    "from pystruct.models import ChainCRF\n",
    "from pystruct.learners import FrankWolfeSSVM\n",
    "\n",
    "%matplotlib inline\n",
    "\n",
    "random.seed"
   ]
  },
  {
   "cell_type": "code",
   "execution_count": 2,
   "metadata": {},
   "outputs": [
    {
     "name": "stdout",
     "output_type": "stream",
     "text": [
      "1396\n"
     ]
    }
   ],
   "source": [
    "data_num = 0\n",
    "available_wifi = 0\n",
    "building = 1\n",
    "floor = 2\n",
    "with open(\"1478167720_9233432_trainingData.csv\", newline='') as csvfile:\n",
    "    spamreader = csv.reader(csvfile, delimiter=',')\n",
    "    for row in spamreader:\n",
    "        if (row[523] == 'BUILDINGID'):\n",
    "            continue\n",
    "        elif (int(row[523]) is not building or int(row[522]) is not floor):\n",
    "            continue\n",
    "        data_num += 1\n",
    "\n",
    "print(data_num)\n",
    "i = -1\n",
    "\n",
    "wifi_loc_time = np.zeros(shape = (data_num, 524))\n",
    "wifi = np.zeros(shape = (data_num, 520))\n",
    "longitude = np.zeros(shape=(data_num,2))\n",
    "\n",
    "with open(\"1478167720_9233432_trainingData.csv\", newline='') as csvfile:\n",
    "    spamreader = csv.reader(csvfile, delimiter=',')\n",
    "    for row in spamreader:\n",
    "        if (row[523] == 'BUILDINGID'):\n",
    "            continue\n",
    "        elif (int(row[523]) is not building or int(row[522]) is not floor):\n",
    "            continue\n",
    "        i = i+1\n",
    "        if (i > data_num):\n",
    "            break\n",
    "        # wifi\n",
    "        wifi_loc_time[i-1][:520] = np.array(row[:520])\n",
    "        wifi[i-1][:] = np.array(row[:520])\n",
    "        # location x, y\n",
    "        wifi_loc_time[i-1][520:522] = np.array(row[520:522])\n",
    "        longitude[i-1][:] = np.array(row[520:522])\n",
    "        # userID\n",
    "        wifi_loc_time[i-1][522] = np.array(row[526])\n",
    "        # time stamp\n",
    "        wifi_loc_time[i-1][-1] = np.array(row[-1])"
   ]
  },
  {
   "cell_type": "code",
   "execution_count": 3,
   "metadata": {},
   "outputs": [
    {
     "name": "stdout",
     "output_type": "stream",
     "text": [
      "[1.37171369e+09 1.37171410e+09 1.37171381e+09 ... 1.37171510e+09\n",
      " 1.37171506e+09 1.37171373e+09]\n"
     ]
    }
   ],
   "source": [
    "print(wifi_loc_time[:,-1])"
   ]
  },
  {
   "cell_type": "code",
   "execution_count": 4,
   "metadata": {},
   "outputs": [],
   "source": [
    "from sklearn.gaussian_process import GaussianProcessRegressor\n",
    "from sklearn.gaussian_process.kernels import (RBF, Matern, RationalQuadratic,\n",
    "                                              ExpSineSquared, DotProduct,\n",
    "                                              ConstantKernel, WhiteKernel)"
   ]
  },
  {
   "cell_type": "code",
   "execution_count": 5,
   "metadata": {},
   "outputs": [
    {
     "name": "stdout",
     "output_type": "stream",
     "text": [
      "87\n"
     ]
    }
   ],
   "source": [
    "# Testing\n",
    "# extract data\n",
    "data_num_v = 0 # 86 in validation dataset\n",
    "with open(\"1478167721_0345678_validationData.csv\", newline='') as v_csvfile:\n",
    "    spamreader_v = csv.reader(v_csvfile, delimiter=',')\n",
    "    for row in spamreader_v:\n",
    "        if (row[523] == 'BUILDINGID'):\n",
    "            continue\n",
    "        elif (int(row[523]) is not building or int(row[522]) is not floor):\n",
    "            continue\n",
    "        data_num_v += 1\n",
    "\n",
    "print(data_num_v)\n",
    "i = -1\n",
    "\n",
    "wifi_loc_time_v = np.zeros(shape = (data_num_v, 524))\n",
    "wifi_v = np.zeros(shape = (data_num_v, 520))\n",
    "longitude_v = np.zeros(shape=(data_num_v,2))\n",
    "\n",
    "# 520 WAP\n",
    "# FLOOR 2\n",
    "# Building 1\n",
    "# timestamp\n",
    "\n",
    "# total data num = 19938\n",
    "\n",
    "with open(\"1478167721_0345678_validationData.csv\", newline='') as v_csvfile:\n",
    "    spamreader_v = csv.reader(v_csvfile, delimiter=',')\n",
    "    for row in spamreader_v:\n",
    "        if (row[523] == 'BUILDINGID'):\n",
    "            continue\n",
    "        elif (int(row[523]) is not building or int(row[522]) is not floor):\n",
    "            continue\n",
    "        i = i+1\n",
    "        #if (i > data_num):\n",
    "        #    break\n",
    "        # wifi\n",
    "        wifi_loc_time_v[i-1][:520] = np.array(row[:520])\n",
    "        wifi_v[i-1][:] = np.array(row[:520])\n",
    "        # location x, y\n",
    "        wifi_loc_time_v[i-1][520:522] = np.array(row[520:522])\n",
    "        longitude_v[i-1][:] = np.array(row[520:522])\n",
    "        # userID\n",
    "        wifi_loc_time_v[i-1][522] = np.array(row[526])\n",
    "        # time stamp\n",
    "        wifi_loc_time_v[i-1][-1] = np.array(row[-1])"
   ]
  },
  {
   "cell_type": "code",
   "execution_count": null,
   "metadata": {
    "scrolled": false
   },
   "outputs": [
    {
     "name": "stdout",
     "output_type": "stream",
     "text": [
      "0.999 10.0 15.297912449643768\n",
      "0.999 11.0 15.29790962063512\n",
      "0.999 12.0 15.297906890238991\n",
      "0.999 13.0 15.297904296468836\n",
      "0.999 14.0 15.297901867965155\n",
      "0.999 15.0 15.29789959653876\n",
      "0.999 16.0 15.297897481191445\n",
      "0.999 17.0 15.297895511257726\n",
      "0.999 18.0 15.297893674253235\n",
      "0.999 19.0 15.297891953739645\n",
      "0.999 20.0 15.297890348271734\n",
      "0.999 21.0 15.297888838486935\n",
      "0.999 22.0 15.297887422076426\n",
      "0.999 23.0 15.297886079375354\n",
      "0.999 24.0 15.298116903024027\n",
      "0.999 25.0 15.298116861906763\n",
      "0.999 26.0 15.298116822085458\n",
      "0.999 27.0 15.298116784289368\n",
      "0.999 28.0 15.298116747153296\n",
      "0.999 29.0 15.298116712418645\n",
      "0.999 30.0 15.29811667860911\n",
      "0.999 31.0 15.29811664480548\n",
      "0.999 32.0 15.298116613712903\n",
      "0.999 33.0 15.298116582148928\n",
      "0.999 34.0 15.298116553770447\n",
      "0.999 35.0 15.298116526236958\n",
      "0.999 36.0 15.298116498327607\n",
      "0.999 37.0 15.298116471979748\n",
      "0.999 38.0 15.298116447545025\n",
      "0.999 39.0 15.29811642341678\n",
      "0.999 40.0 15.298116400148261\n",
      "0.999 41.0 15.298116377522609\n",
      "0.999 42.0 15.298116356301474\n",
      "0.999 43.0 15.29811633575215\n",
      "0.999 44.0 15.298116314967091\n",
      "0.999 45.0 15.298116297014978\n",
      "0.999 46.0 15.298116277610555\n",
      "0.999 47.0 15.298116260381095\n",
      "0.999 48.0 15.298116243699495\n",
      "0.999 49.0 15.298116226736576\n",
      "0.999 50.0 15.298116210471123\n",
      "0.999 51.0 15.29811619503809\n",
      "0.999 52.0 15.298116180956496\n",
      "0.999 53.0 15.298116166187324\n",
      "0.999 54.0 15.298116153350048\n",
      "0.999 55.0 15.298116139832452\n",
      "0.999 56.0 15.298116125331532\n",
      "0.999 57.0 15.298116113983856\n",
      "0.999 58.0 15.298116101310464\n",
      "0.999 59.0 15.298116089906882\n",
      "0.999 60.0 15.298116079563757\n",
      "0.999 61.0 15.29811606891206\n",
      "0.999 62.0 15.29811605719585\n",
      "0.999 63.0 15.298116047070087\n",
      "0.999 64.0 15.298116039236618\n",
      "0.999 65.0 15.298116028398592\n",
      "0.999 66.0 15.298116020405725\n",
      "0.999 67.0 15.298116010509604\n",
      "0.999 68.0 15.298116001447745\n",
      "0.999 69.0 15.298115993920696\n",
      "0.999 70.0 15.298115986792016\n",
      "0.999 71.0 15.298115977903668\n",
      "0.999 72.0 15.298115971367547\n",
      "0.999 73.0 15.298115964054622\n",
      "0.999 74.0 15.298115956703036\n",
      "0.999 75.0 15.298115950915106\n",
      "0.999 76.0 15.298115944910844\n",
      "0.999 77.0 15.29811593694867\n",
      "0.999 78.0 15.298115932712403\n",
      "0.999 79.0 15.298115925938546\n",
      "0.999 80.0 15.298115920510448\n",
      "0.999 81.0 15.298115915659128\n",
      "0.999 82.0 15.298115910264304\n",
      "0.999 83.0 15.298115905340765\n",
      "0.999 84.0 15.298115900495485\n",
      "0.999 85.0 15.298115896552419\n",
      "0.999 86.0 15.29811589166271\n",
      "0.999 87.0 15.298115887267297\n",
      "0.999 88.0 15.298115883184305\n",
      "0.999 89.0 15.298115878436542\n",
      "0.999 90.0 15.298115874485337\n",
      "0.999 91.0 15.298115871585658\n",
      "0.999 92.0 15.298115867261897\n",
      "0.999 93.0 15.298115864536802\n",
      "0.999 94.0 15.298115861152661\n",
      "0.999 95.0 15.298115858037967\n",
      "0.999 96.0 15.298115854942038\n",
      "0.999 97.0 15.29811585178167\n",
      "0.999 98.0 15.298115849126217\n",
      "0.999 99.0 15.298115846525677\n",
      "0.999 100.0 15.298115843941847\n",
      "0.999 101.0 15.298115841871748\n",
      "0.999 102.0 15.298115839435768\n",
      "0.999 103.0 15.298115837553812\n",
      "0.999 104.0 15.298115834815013\n",
      "0.999 105.0 15.298115832170101\n",
      "0.999 106.0 15.298115831661223\n",
      "0.999 107.0 15.298115829665615\n",
      "0.999 108.0 15.298115827415353\n",
      "0.999 109.0 15.29811582481113\n",
      "0.999 110.0 15.298115823394747\n",
      "0.999 111.0 15.298115821862972\n",
      "0.999 112.0 15.298115820947173\n",
      "0.999 113.0 15.298115819771542\n",
      "0.999 114.0 15.298115817424852\n",
      "0.999 115.0 15.298115817036265\n",
      "0.999 116.0 15.298115816691247\n",
      "0.999 117.0 15.298115814828408\n",
      "0.999 118.0 15.298115813567929\n",
      "0.999 119.0 15.298115812950439\n",
      "0.999 120.0 15.29811581218887\n",
      "0.999 121.0 15.298115811325406\n",
      "0.999 122.0 15.29811581165112\n",
      "0.999 123.0 15.298115810129906\n",
      "0.999 124.0 15.298115810148358\n",
      "0.999 125.0 15.298115808944601\n",
      "0.999 126.0 15.298115808820876\n",
      "0.999 127.0 15.298115807332419\n",
      "0.999 128.0 15.298115809193538\n",
      "0.999 129.0 15.298115807641326\n",
      "0.999 130.0 15.298115807133948\n",
      "0.999 131.0 15.29811580757532\n",
      "0.999 132.0 15.298115806657844\n",
      "0.999 133.0 15.298115806974112\n",
      "0.999 134.0 15.298115806528836\n",
      "0.999 135.0 15.29811580747247\n",
      "0.999 136.0 15.298115806764033\n",
      "0.999 137.0 15.298115806801245\n",
      "0.999 138.0 15.29811580768009\n",
      "0.999 139.0 15.298115807714296\n",
      "0.999 140.0 15.298115808785369\n",
      "0.999 141.0 15.298115808345333\n",
      "0.999 142.0 15.298115808891243\n",
      "0.999 143.0 15.29811580928374\n",
      "0.999 144.0 15.298115809829175\n",
      "0.999 145.0 15.298115810012536\n",
      "0.999 146.0 15.298115810106406\n",
      "0.999 147.0 15.29811581140988\n",
      "0.999 148.0 15.298115811687389\n",
      "0.999 149.0 15.298115813145852\n",
      "0.999 150.0 15.298115812219848\n",
      "0.999 151.0 15.298115813289641\n",
      "0.999 152.0 15.298115814314519\n",
      "0.999 153.0 15.298115815337924\n",
      "0.999 154.0 15.298115814125634\n",
      "0.999 155.0 15.298115815697262\n",
      "0.999 156.0 15.298115816819431\n",
      "0.999 157.0 15.298115818308784\n",
      "0.999 158.0 15.298115819112558\n",
      "0.999 159.0 15.298115819884183\n",
      "0.999 160.0 15.29811582033894\n",
      "0.999 161.0 15.298115822722167\n",
      "0.999 162.0 15.29811582154559\n",
      "0.999 163.0 15.298115823240098\n",
      "0.999 164.0 15.29811582482162\n",
      "0.999 165.0 15.298115825672573\n",
      "0.999 166.0 15.298115825905615\n",
      "0.999 167.0 15.298115827312003\n",
      "0.999 168.0 15.298115828435535\n",
      "0.999 169.0 15.298115829427966\n",
      "0.999 170.0 15.298115831848396\n",
      "0.999 171.0 15.298115832204779\n",
      "0.999 172.0 15.298115832908662\n",
      "0.999 173.0 15.298115833702035\n",
      "0.999 174.0 15.29811583527129\n",
      "0.999 175.0 15.298115835728613\n",
      "0.999 176.0 15.298115837581824\n",
      "0.999 177.0 15.298115838082527\n",
      "0.999 178.0 15.298115839101905\n",
      "0.999 179.0 15.2981158411228\n",
      "0.999 180.0 15.298115842853031\n",
      "0.999 181.0 15.298115843159195\n",
      "0.999 182.0 15.298115844636673\n",
      "0.999 183.0 15.298115846209729\n",
      "0.999 184.0 15.298115847871419\n",
      "0.999 185.0 15.29811584869652\n",
      "0.999 186.0 15.298115851014018\n",
      "0.999 187.0 15.298115852285049\n",
      "0.999 188.0 15.298115852959567\n"
     ]
    }
   ],
   "source": [
    "len_scale = 1.0\n",
    "ap = 0.1\n",
    "for i in range(999):\n",
    "    len_scale -= 0.001\n",
    "    for ap in range(10000):\n",
    "        ap += 10.0\n",
    "        kernel = 1.0 * RationalQuadratic(length_scale=len_scale, alpha=ap)\n",
    "        gp = GaussianProcessRegressor(kernel=kernel,\n",
    "                                          alpha=0.5).fit(wifi, longitude)\n",
    "        loc_pred, loc_cov = gp.predict(wifi_v, return_cov=True)\n",
    "        RMSE = 0\n",
    "        for i in range(len(loc_pred)):\n",
    "                #print(loc_pred[i,0], longitude_v[i,0], loc_pred[i,0]-longitude_v[i,0])\n",
    "                #print(loc_pred[i,1], longitude_v[i,1], loc_pred[i,1]-longitude_v[i,1])\n",
    "                #print(math.sqrt(pow(loc_pred[i,0]-longitude_v[i,0],2)+pow(loc_pred[i,1]-longitude_v[i,1],2)))\n",
    "            RMSE+=math.sqrt(pow(loc_pred[i,0]-longitude_v[i,0],2)+pow(loc_pred[i,1]-longitude_v[i,1],2))\n",
    "        print(len_scale, ap, RMSE/data_num_v)"
   ]
  },
  {
   "cell_type": "code",
   "execution_count": null,
   "metadata": {},
   "outputs": [],
   "source": [
    "# from sklearn.decomposition import PCA, KernelPCA"
   ]
  },
  {
   "cell_type": "code",
   "execution_count": null,
   "metadata": {},
   "outputs": [],
   "source": [
    "# n_components = 2\n",
    "# # pca = PCA(n_components=n_components)\n",
    "# # wifi_pca = pca.fit_transform(wifi)\n",
    "# kpca = KernelPCA(kernel=\"rbf\", n_components=2, gamma=100)\n",
    "# wifi_pca = kpca.fit_transform(wifi)"
   ]
  },
  {
   "cell_type": "code",
   "execution_count": null,
   "metadata": {},
   "outputs": [],
   "source": [
    "# for i in range(len(wifi)):\n",
    "#     axes = plt.gca()\n",
    "#     axes.set_xlim([min(wifi_pca[:,0]),max(wifi_pca[:,0])])\n",
    "#     axes.set_ylim([min(wifi_pca[:,1]),max(wifi_pca[:,1])])\n",
    "#     plt.scatter(wifi_pca[:,0], wifi_pca[:,1], c='r')\n",
    "#     plt.annotate(i, (wifi_pca[i,0], wifi_pca[i,1]))\n",
    "#     plt.show()"
   ]
  },
  {
   "cell_type": "code",
   "execution_count": null,
   "metadata": {},
   "outputs": [],
   "source": [
    "plt.plot(longitude[:,0], longitude[:,1], 'b.')"
   ]
  },
  {
   "cell_type": "code",
   "execution_count": null,
   "metadata": {},
   "outputs": [],
   "source": [
    "# print(wifi_pca)"
   ]
  },
  {
   "cell_type": "code",
   "execution_count": null,
   "metadata": {},
   "outputs": [],
   "source": [
    "# print(longitude)"
   ]
  },
  {
   "cell_type": "code",
   "execution_count": null,
   "metadata": {},
   "outputs": [],
   "source": [
    "# wifi_pca_v = kpca.fit_transform(wifi_v)\n",
    "# for kernel in kernels:\n",
    "#     gp = GaussianProcessRegressor(kernel=kernel,\n",
    "#                                       alpha=0.5).fit(wifi_pca, longitude)\n",
    "#     loc_pred, loc_cov = gp.predict(wifi_pca_v, return_cov=True)\n",
    "#     RMSE = 0\n",
    "#     for i in range(len(loc_pred)):\n",
    "#             #print(loc_pred[i,0], longitude_v[i,0], loc_pred[i,0]-longitude_v[i,0])\n",
    "#             #print(loc_pred[i,1], longitude_v[i,1], loc_pred[i,1]-longitude_v[i,1])\n",
    "#             #print(math.sqrt(pow(loc_pred[i,0]-longitude_v[i,0],2)+pow(loc_pred[i,1]-longitude_v[i,1],2)))\n",
    "#         RMSE+=math.sqrt(pow(loc_pred[i,0]-longitude_v[i,0],2)+pow(loc_pred[i,1]-longitude_v[i,1],2))\n",
    "#     print(RMSE/data_num_v)"
   ]
  },
  {
   "cell_type": "code",
   "execution_count": null,
   "metadata": {},
   "outputs": [],
   "source": [
    "print(1e+05)"
   ]
  },
  {
   "cell_type": "code",
   "execution_count": null,
   "metadata": {},
   "outputs": [],
   "source": []
  }
 ],
 "metadata": {
  "kernelspec": {
   "display_name": "Python 3",
   "language": "python",
   "name": "python3"
  },
  "language_info": {
   "codemirror_mode": {
    "name": "ipython",
    "version": 3
   },
   "file_extension": ".py",
   "mimetype": "text/x-python",
   "name": "python",
   "nbconvert_exporter": "python",
   "pygments_lexer": "ipython3",
   "version": "3.6.4"
  }
 },
 "nbformat": 4,
 "nbformat_minor": 2
}
